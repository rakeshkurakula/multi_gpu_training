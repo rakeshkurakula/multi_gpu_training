{
 "cells": [
  {
   "cell_type": "markdown",
   "metadata": {},
   "source": [
    "### Multi-GPU training\n",
    "\n",
    "From the PyTorch_lightning exersice. I have basically make the GPU training with ` Pytorch Lightning `\n",
    "Try to implement multi-GPU training. Inner workings and implementation.\n",
    "\n",
    "Problem / Situation :\n",
    "Base Pytorch uses only single GPU while training any model, Even if there are multiple GPUs available. We can use PyTorch parallel processing capabilities to do ` multi-GPU training `\n",
    "\n",
    "This is a big bottleneck as PyTorch is inherently designed to use one machine to do training. _This Helps in optimizing the the run-time_\n",
    "\n",
    "```\n",
    "In essence , Multi-GPU trainnig enables us to distribute the workload of model training across multiple GPUs and even on multiple machines if necessary\n",
    "```\n",
    "\n",
    "There are two main approaches:\n",
    "1. DataPrallel (DP)\n",
    "2. DistributedDataParallel (DDP)\n",
    "\n",
    "\n",
    "Reference : [accurate, Large Minibatch SGD](https://arxiv.org/pdf/1706.02677) paper"
   ]
  },
  {
   "cell_type": "code",
   "execution_count": 4,
   "metadata": {},
   "outputs": [],
   "source": [
    "import torch\n",
    "import torch.nn as nn\n",
    "import torch.optim as optim\n",
    "import torchvision\n",
    "import torchvision.transforms as transforms\n",
    "from torch.utils.data import DataLoader\n",
    "import pytorch_lightning as pl\n",
    "import torchmetrics\n",
    "\n",
    "\n",
    "# Data transformation\n",
    "transform = transforms.Compose([\n",
    "    transforms.ToTensor(),\n",
    "    transforms.Normalize((0.5,), (0.5,))\n",
    "])\n",
    "\n",
    "# Load datasets\n",
    "train_dataset = torchvision.datasets.MNIST(root='./data', train=True, download=True, transform=transform)\n",
    "val_dataset = torchvision.datasets.MNIST(root='./data', train=False, download=True, transform=transform)\n",
    "test_dataset = torchvision.datasets.MNIST(root='./data', train=False, download=True, transform=transform)\n",
    "\n",
    "# Dataloaders\n",
    "train_loader = DataLoader(train_dataset, batch_size=64, shuffle=True)\n",
    "val_loader = DataLoader(val_dataset, batch_size=64, shuffle=False)\n",
    "test_loader = DataLoader(test_dataset, batch_size=64, shuffle=False)\n",
    "\n",
    "\n",
    "class SimpleNet(pl.LightningModule):\n",
    "\n",
    "    def __init__(self):\n",
    "        super(SimpleNet, self).__init__()\n",
    "        self.fc1 = nn.Linear(28 * 28, 512)\n",
    "        self.fc2 = nn.Linear(512, 256)\n",
    "        self.fc3 = nn.Linear(256, 128)\n",
    "        self.fc4 = nn.Linear(128, 10)\n",
    "        \n",
    "        self.criterion = nn.CrossEntropyLoss()\n",
    "\n",
    "        # Define torchmetrics for tracking\n",
    "        self.accuracy = torchmetrics.Accuracy(task=\"multiclass\", num_classes=10)\n",
    "        self.precision = torchmetrics.Precision(task=\"multiclass\", num_classes=10)\n",
    "    # forward for forward pass logic\n",
    "    def forward(self, x):\n",
    "        x = x.view(x.size(0), -1)\n",
    "        x = torch.relu(self.fc1(x))\n",
    "        x = torch.relu(self.fc2(x))\n",
    "        x = torch.relu(self.fc3(x))\n",
    "        x = self.fc4(x)\n",
    "        return x\n",
    "    # Training_step() for one step of batch training\n",
    "    def training_step(self, batch, batch_idx):\n",
    "        inputs, labels = batch\n",
    "        outputs = self(inputs)\n",
    "        loss = self.criterion(outputs, labels)\n",
    "\n",
    "        # Compute metrics (convert logits to class predictions)\n",
    "        preds = outputs.argmax(dim=1)\n",
    "\n",
    "        acc = self.accuracy(preds, labels)\n",
    "        prec = self.precision(preds, labels)\n",
    "\n",
    "        # Log metrics separately\n",
    "        self.log('train_loss', loss, on_step=True, on_epoch=True, prog_bar=True)\n",
    "        self.log('train_acc', acc, on_step=True, on_epoch=True, prog_bar=True)\n",
    "        self.log('train_precision', prec, on_step=True, on_epoch=True, prog_bar=True)\n",
    "\n",
    "        return loss\n",
    "    # Validation_step() for one step of batch validation\n",
    "    def validation_step(self, batch, batch_idx):\n",
    "        inputs, labels = batch\n",
    "        outputs = self(inputs)\n",
    "        loss = self.criterion(outputs, labels)\n",
    "\n",
    "        preds = outputs.argmax(dim=1)\n",
    "        acc = self.accuracy(preds, labels)\n",
    "\n",
    "        self.log('val_loss', loss, prog_bar=True)\n",
    "        self.log('val_acc', acc, prog_bar=True)\n",
    "        return loss\n",
    "    def configure_optimizers(self):\n",
    "        return optim.Adam(self.parameters(), lr=0.001)\n",
    "\n",
    "    def train_dataloader(self):\n",
    "        return train_loader\n",
    "\n",
    "    def val_dataloader(self):\n",
    "        return val_loader\n",
    "\n",
    "    def test_dataloader(self):\n",
    "        return test_loader"
   ]
  },
  {
   "cell_type": "code",
   "execution_count": 5,
   "metadata": {},
   "outputs": [
    {
     "name": "stderr",
     "output_type": "stream",
     "text": [
      "GPU available: True (mps), used: True\n",
      "TPU available: False, using: 0 TPU cores\n",
      "HPU available: False, using: 0 HPUs\n"
     ]
    },
    {
     "name": "stderr",
     "output_type": "stream",
     "text": [
      "\n",
      "  | Name      | Type                | Params | Mode \n",
      "----------------------------------------------------------\n",
      "0 | fc1       | Linear              | 401 K  | train\n",
      "1 | fc2       | Linear              | 131 K  | train\n",
      "2 | fc3       | Linear              | 32.9 K | train\n",
      "3 | fc4       | Linear              | 1.3 K  | train\n",
      "4 | criterion | CrossEntropyLoss    | 0      | train\n",
      "5 | accuracy  | MulticlassAccuracy  | 0      | train\n",
      "6 | precision | MulticlassPrecision | 0      | train\n",
      "----------------------------------------------------------\n",
      "567 K     Trainable params\n",
      "0         Non-trainable params\n",
      "567 K     Total params\n",
      "2.270     Total estimated model params size (MB)\n",
      "7         Modules in train mode\n",
      "0         Modules in eval mode\n"
     ]
    },
    {
     "name": "stdout",
     "output_type": "stream",
     "text": [
      "Sanity Checking DataLoader 0:   0%|          | 0/2 [00:00<?, ?it/s]"
     ]
    },
    {
     "name": "stderr",
     "output_type": "stream",
     "text": [
      "/Users/rakeshk94/Desktop/multi_gpu_training/.venv/lib/python3.12/site-packages/pytorch_lightning/trainer/connectors/data_connector.py:425: The 'val_dataloader' does not have many workers which may be a bottleneck. Consider increasing the value of the `num_workers` argument` to `num_workers=7` in the `DataLoader` to improve performance.\n"
     ]
    },
    {
     "name": "stdout",
     "output_type": "stream",
     "text": [
      "                                                                           "
     ]
    },
    {
     "name": "stderr",
     "output_type": "stream",
     "text": [
      "/Users/rakeshk94/Desktop/multi_gpu_training/.venv/lib/python3.12/site-packages/pytorch_lightning/trainer/connectors/data_connector.py:425: The 'train_dataloader' does not have many workers which may be a bottleneck. Consider increasing the value of the `num_workers` argument` to `num_workers=7` in the `DataLoader` to improve performance.\n"
     ]
    },
    {
     "name": "stdout",
     "output_type": "stream",
     "text": [
      "Epoch 4: 100%|██████████| 938/938 [00:15<00:00, 62.23it/s, v_num=18, train_loss_step=0.159, train_acc_step=0.969, train_precision_step=0.969, val_loss=0.135, val_acc=0.960, train_loss_epoch=0.0761, train_acc_epoch=0.976, train_precision_epoch=0.976]  "
     ]
    },
    {
     "name": "stderr",
     "output_type": "stream",
     "text": [
      "`Trainer.fit` stopped: `max_epochs=5` reached.\n"
     ]
    },
    {
     "name": "stdout",
     "output_type": "stream",
     "text": [
      "Epoch 4: 100%|██████████| 938/938 [00:15<00:00, 62.15it/s, v_num=18, train_loss_step=0.159, train_acc_step=0.969, train_precision_step=0.969, val_loss=0.135, val_acc=0.960, train_loss_epoch=0.0761, train_acc_epoch=0.976, train_precision_epoch=0.976]\n"
     ]
    }
   ],
   "source": [
    "# Define model\n",
    "model = SimpleNet()\n",
    "\n",
    "# Declare Trainer object\n",
    "trainer = pl.Trainer(max_epochs=5,\n",
    "                     accelerator= \"auto\",\n",
    "                     devices=1)\n",
    "\n",
    "# Fit model on train dataset\n",
    "trainer.fit(model,\n",
    "            train_loader,\n",
    "            val_loader)"
   ]
  },
  {
   "cell_type": "markdown",
   "metadata": {},
   "source": [
    "### We can define number of devices with lightning"
   ]
  },
  {
   "cell_type": "code",
   "execution_count": null,
   "metadata": {},
   "outputs": [],
   "source": [
    "# Declare Trainer object\n",
    "trainer = pl.Trainer(max_epochs=5,\n",
    "                     accelerator = \"gpu\",\n",
    "                     devices = 6)"
   ]
  },
  {
   "cell_type": "markdown",
   "metadata": {},
   "source": [
    "## Distributed Training strategy with multiple devices"
   ]
  },
  {
   "cell_type": "code",
   "execution_count": null,
   "metadata": {},
   "outputs": [],
   "source": [
    "# Declare Trainer object for multi-GPU training\n",
    "trainer = pl.Trainer(max_epochs=5,\n",
    "                     accelerator=\"gpu\",\n",
    "                     devices=2,\n",
    "                     strategy=\"dp\")"
   ]
  },
  {
   "cell_type": "markdown",
   "metadata": {},
   "source": [
    "### Process in DP strategy\n",
    "\n",
    "- The central machine replicates the model to all GPUs.\n",
    "- The individual GPUs communicate the outputs on their respective datasets back to the central machine.\n",
    "- The central machine then computes the loss and gradients, which are then used to update the weights of the model located at a central machine.\n",
    "- These updated weights are then sent back to the individual GPUs."
   ]
  },
  {
   "cell_type": "markdown",
   "metadata": {},
   "source": [
    "` Main problem with DataPrallel strategy is that the model is trained on one device `"
   ]
  },
  {
   "cell_type": "code",
   "execution_count": null,
   "metadata": {},
   "outputs": [],
   "source": [
    "# Declare Trainer object for multi-GPU training\n",
    "trainer = pl.Trainer(max_epochs=5,\n",
    "                     accelerator=\"gpu\",\n",
    "                     devices=2,\n",
    "                     strategy=\"ddp\")\n"
   ]
  },
  {
   "cell_type": "markdown",
   "metadata": {},
   "source": [
    "This  Data is converted into batches and Each batch is sent to Replicated GPU machine \n",
    "Where we have Gradients, outputs, Loss for each GPU\n",
    "\n",
    "### Process in DDP startegy\n",
    "\n",
    "- The central machine replicates the model to all GPUs. This happens only once.\n",
    "- The individual GPUs compute the gradients themselves, communicate them to other GPUs, and all replicates get updated.\n",
    "- The central machine is never overloaded with model outputs."
   ]
  },
  {
   "cell_type": "markdown",
   "metadata": {},
   "source": [
    "## In multi-GPU training, the typical idea is to distribute the dataset across multiple machines or GPUs to take advantage of parallel processing capabilities"
   ]
  },
  {
   "cell_type": "markdown",
   "metadata": {},
   "source": []
  }
 ],
 "metadata": {
  "kernelspec": {
   "display_name": ".venv",
   "language": "python",
   "name": "python3"
  },
  "language_info": {
   "codemirror_mode": {
    "name": "ipython",
    "version": 3
   },
   "file_extension": ".py",
   "mimetype": "text/x-python",
   "name": "python",
   "nbconvert_exporter": "python",
   "pygments_lexer": "ipython3",
   "version": "3.12.8"
  }
 },
 "nbformat": 4,
 "nbformat_minor": 2
}
